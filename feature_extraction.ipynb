{
  "metadata": {
    "kernelspec": {
      "display_name": "Python 3",
      "name": "python3"
    },
    "language_info": {
      "name": "python",
      "version": "3.10.12",
      "mimetype": "text/x-python",
      "codemirror_mode": {
        "name": "ipython",
        "version": 3
      },
      "pygments_lexer": "ipython3",
      "nbconvert_exporter": "python",
      "file_extension": ".py"
    },
    "kaggle": {
      "accelerator": "gpu",
      "dataSources": [
        {
          "sourceId": 10550636,
          "sourceType": "datasetVersion",
          "datasetId": 6412205
        }
      ],
      "dockerImageVersionId": 30840,
      "isInternetEnabled": true,
      "language": "python",
      "sourceType": "notebook",
      "isGpuEnabled": true
    },
    "colab": {
      "provenance": [],
      "gpuType": "T4"
    },
    "accelerator": "GPU"
  },
  "nbformat_minor": 0,
  "nbformat": 4,
  "cells": [
    {
      "cell_type": "code",
      "source": [
        "import kagglehub\n",
        "\n",
        "# Download latest version\n",
        "path = kagglehub.dataset_download(\"alessandrasala79/ai-vs-human-generated-dataset\")\n",
        "\n",
        "print(\"Path to dataset files:\", path)"
      ],
      "metadata": {
        "_uuid": "8f2839f25d086af736a60e9eeb907d3b93b6e0e5",
        "_cell_guid": "b1076dfc-b9ad-4769-8c92-a6c4dae69d19",
        "trusted": true,
        "execution": {
          "iopub.status.busy": "2025-01-24T12:12:32.204819Z",
          "iopub.execute_input": "2025-01-24T12:12:32.205128Z",
          "iopub.status.idle": "2025-01-24T12:12:32.666425Z",
          "shell.execute_reply.started": "2025-01-24T12:12:32.205103Z",
          "shell.execute_reply": "2025-01-24T12:12:32.665737Z"
        },
        "colab": {
          "base_uri": "https://localhost:8080/"
        },
        "id": "SUJ1kWrVcHaD",
        "outputId": "f3c9d3b0-23ff-4cf4-f89c-5e0925883886"
      },
      "outputs": [
        {
          "output_type": "stream",
          "name": "stdout",
          "text": [
            "Downloading from https://www.kaggle.com/api/v1/datasets/download/alessandrasala79/ai-vs-human-generated-dataset?dataset_version_number=4...\n"
          ]
        },
        {
          "output_type": "stream",
          "name": "stderr",
          "text": [
            "100%|██████████| 9.76G/9.76G [01:40<00:00, 104MB/s]"
          ]
        },
        {
          "output_type": "stream",
          "name": "stdout",
          "text": [
            "Extracting files...\n"
          ]
        },
        {
          "output_type": "stream",
          "name": "stderr",
          "text": [
            "\n"
          ]
        },
        {
          "output_type": "stream",
          "name": "stdout",
          "text": [
            "Path to dataset files: /root/.cache/kagglehub/datasets/alessandrasala79/ai-vs-human-generated-dataset/versions/4\n"
          ]
        }
      ],
      "execution_count": null
    },
    {
      "cell_type": "code",
      "source": [
        "# path = \"/kaggle/input/ai-vs-human-generated-dataset\""
      ],
      "metadata": {
        "trusted": true,
        "execution": {
          "iopub.status.busy": "2025-01-23T10:51:44.613970Z",
          "iopub.execute_input": "2025-01-23T10:51:44.614381Z",
          "iopub.status.idle": "2025-01-23T10:51:44.619252Z",
          "shell.execute_reply.started": "2025-01-23T10:51:44.614348Z",
          "shell.execute_reply": "2025-01-23T10:51:44.618066Z"
        },
        "id": "cjUxcVXOcHaE"
      },
      "outputs": [],
      "execution_count": null
    },
    {
      "cell_type": "code",
      "source": [
        "import os\n",
        "import numpy as np\n",
        "from numpy import linalg as LA\n",
        "import h5py\n",
        "import pandas as pd\n",
        "from tqdm import tqdm\n",
        "from tensorflow.keras.applications import ResNet50\n",
        "from tensorflow.keras.preprocessing import image\n",
        "from tensorflow.keras.applications.resnet50 import preprocess_input\n",
        "\n",
        "\n",
        "class extract_features:\n",
        "    def __init__(self):\n",
        "        self.model = ResNet50(weights = 'imagenet',\n",
        "              input_shape = ((224, 224, 3)),\n",
        "              pooling = 'avg',\n",
        "              include_top = False)\n",
        "\n",
        "\n",
        "    def image2features(self, img_path):\n",
        "        img = image.load_img(img_path, target_size=(224, 224))\n",
        "        img = image.img_to_array(img)\n",
        "        img = np.expand_dims(img, axis=0)\n",
        "        img = preprocess_input(img)\n",
        "        feature = self.model.predict(img, verbose=0)\n",
        "        normalized_feature = feature[0]/LA.norm(feature[0])\n",
        "        return normalized_feature\n",
        "\n",
        "\n",
        "    def extract_and_save_features(self, image_path, label_path, h5f):\n",
        "\n",
        "        # Read labels\n",
        "        labels_file = pd.read_csv(label_path)\n",
        "        filenames = np.array(labels_file['file_name'].values)\n",
        "        labels = labels_file['label'].values\n",
        "\n",
        "        feature_array = []\n",
        "        label_array = []\n",
        "        image_full_file_paths = os.listdir(image_path)\n",
        "\n",
        "        for i in tqdm(range(len(image_full_file_paths))):\n",
        "            idx = np.where(filenames == f'train_data/{image_full_file_paths[i]}')\n",
        "            label_array.append(labels[idx][0])\n",
        "            feature_array.append(self.image2features(os.path.join(image_path,image_full_file_paths[i])))\n",
        "\n",
        "        feature_array = np.array(feature_array)\n",
        "        label_array = np.array(label_array)\n",
        "\n",
        "        print(\"Writing Features\")\n",
        "        try:\n",
        "            # h5f = h5py.File(os.path.join(save_location, 'efficientNetB7_features.h5'), 'w')\n",
        "            h5f.create_dataset('features', data=feature_array)\n",
        "            h5f.create_dataset('labels', data=label_array)\n",
        "            h5f.close()\n",
        "        except:\n",
        "            print(\"An exception occurred\")\n",
        "        return feature_array, label_array\n",
        "\n",
        "\n",
        "\n",
        "if __name__ == \"__main__\":\n",
        "    save_location = \"AI-vs.-Human-Generated-Images-Kaggle-Competition\"\n",
        "    os.makedirs(save_location, exist_ok=True)\n",
        "    h5f = h5py.File(os.path.join(save_location, 'ResNet50_features.h5'), 'w')\n",
        "    image_path = f\"{path}/train_data\"\n",
        "    label_path = f\"{path}/train.csv\"\n",
        "    efficientNet_feature_extractor = extract_features()\n",
        "    feature_array, label_array = efficientNet_feature_extractor.extract_and_save_features(image_path, label_path, h5f)"
      ],
      "metadata": {
        "trusted": true,
        "execution": {
          "iopub.status.busy": "2025-01-24T12:12:35.689560Z",
          "iopub.execute_input": "2025-01-24T12:12:35.689837Z",
          "execution_failed": "2025-01-24T14:15:06.121Z"
        },
        "colab": {
          "base_uri": "https://localhost:8080/"
        },
        "id": "VdduHE_6cHaF",
        "outputId": "895c8ebd-7c7a-41fd-a360-7ce494960fa6"
      },
      "outputs": [
        {
          "output_type": "stream",
          "name": "stdout",
          "text": [
            "Downloading data from https://storage.googleapis.com/tensorflow/keras-applications/resnet/resnet50_weights_tf_dim_ordering_tf_kernels_notop.h5\n",
            "\u001b[1m94765736/94765736\u001b[0m \u001b[32m━━━━━━━━━━━━━━━━━━━━\u001b[0m\u001b[37m\u001b[0m \u001b[1m1s\u001b[0m 0us/step\n"
          ]
        },
        {
          "output_type": "stream",
          "name": "stderr",
          "text": [
            " 96%|█████████▌| 76869/79950 [1:47:43<03:59, 12.86it/s]"
          ]
        }
      ],
      "execution_count": null
    },
    {
      "cell_type": "code",
      "source": [
        "feature_array.shape"
      ],
      "metadata": {
        "trusted": true,
        "execution": {
          "execution_failed": "2025-01-24T14:15:06.122Z"
        },
        "id": "wDxar2qccHaF"
      },
      "outputs": [],
      "execution_count": null
    },
    {
      "cell_type": "code",
      "source": [
        "\n",
        "import numpy as np\n",
        "import h5py\n",
        "import matplotlib.pyplot as plt\n",
        "from sklearn.decomposition import PCA\n",
        "from mpl_toolkits.mplot3d import Axes3D\n",
        "import pandas as pd\n",
        "\n",
        "h5file = h5py.File(\"/content/AI-vs.-Human-Generated-Images-Kaggle-Competition/ResNet50_features.h5\",'r')\n",
        "features = h5file['features'][:]\n",
        "labels = h5file['labels'][:]\n",
        "h5file.close()\n",
        "\n",
        "# apply pca and vizualize\n",
        "pca = PCA(n_components=3)\n",
        "features_pca = pca.fit_transform(features)\n",
        "\n",
        "# visualize\n",
        "fig = plt.figure(figsize=(12, 8))\n",
        "ax = fig.add_subplot(111, projection='3d')\n",
        "ax.scatter(features_pca[:, 0], features_pca[:, 1], features_pca[:, 2],\n",
        "            c=labels, alpha=0.5)\n",
        "plt.show()"
      ],
      "metadata": {
        "trusted": true,
        "execution": {
          "execution_failed": "2025-01-24T14:15:06.122Z"
        },
        "id": "PmPPAqLIcHaG"
      },
      "outputs": [],
      "execution_count": null
    },
    {
      "cell_type": "code",
      "source": [
        "fig = plt.figure(figsize=(12, 8))\n",
        "ax = fig.add_subplot(111, projection='3d')\n",
        "ax.scatter(features_pca[:, 0], features_pca[:, 1], features_pca[:, 2],\n",
        "            c=labels, alpha=0.5)\n",
        "plt.savefig('feature.svg')"
      ],
      "metadata": {
        "trusted": true,
        "execution": {
          "execution_failed": "2025-01-24T14:15:06.122Z"
        },
        "id": "IMXIXeq7cHaG"
      },
      "outputs": [],
      "execution_count": null
    },
    {
      "cell_type": "code",
      "source": [
        "# from IPython.display import FileLink\n",
        "# FileLink('/content/AI-vs.-Human-Generated-Images-Kaggle-Competition/vgg16_features.h5')"
      ],
      "metadata": {
        "trusted": true,
        "execution": {
          "iopub.status.busy": "2025-01-23T13:24:32.031039Z",
          "iopub.execute_input": "2025-01-23T13:24:32.031408Z",
          "iopub.status.idle": "2025-01-23T13:24:32.036713Z",
          "shell.execute_reply.started": "2025-01-23T13:24:32.031384Z",
          "shell.execute_reply": "2025-01-23T13:24:32.035848Z"
        },
        "id": "uzjgTKukcHaG",
        "outputId": "46a324bb-cef5-44d0-9741-c9b0f285a2fa"
      },
      "outputs": [
        {
          "execution_count": 6,
          "output_type": "execute_result",
          "data": {
            "text/plain": "/kaggle/working/AI-vs.-Human-Generated-Images-Kaggle-Competition/efficientNetB7_features.h5",
            "text/html": "<a href='/kaggle/working/AI-vs.-Human-Generated-Images-Kaggle-Competition/efficientNetB7_features.h5' target='_blank'>/kaggle/working/AI-vs.-Human-Generated-Images-Kaggle-Competition/efficientNetB7_features.h5</a><br>"
          },
          "metadata": {}
        }
      ],
      "execution_count": null
    },
    {
      "cell_type": "code",
      "source": [
        "# from pydrive2.auth import GoogleAuth\n",
        "# from pydrive2.drive import GoogleDrive\n",
        "# from google.colab import auth\n",
        "# from oauth2client.client import GoogleCredentials"
      ],
      "metadata": {
        "trusted": true,
        "execution": {
          "iopub.status.busy": "2025-01-23T13:32:17.648664Z",
          "iopub.execute_input": "2025-01-23T13:32:17.649077Z",
          "iopub.status.idle": "2025-01-23T13:32:17.653493Z",
          "shell.execute_reply.started": "2025-01-23T13:32:17.649040Z",
          "shell.execute_reply": "2025-01-23T13:32:17.652645Z"
        },
        "id": "_XLZarPJcHaG"
      },
      "outputs": [],
      "execution_count": null
    },
    {
      "cell_type": "code",
      "source": [
        "# auth.authenticate_user()\n",
        "# gauth = GoogleAuth()\n",
        "# gauth.credentials = GoogleCredentials.get_application_default()\n",
        "# drive = GoogleDrive(gauth)"
      ],
      "metadata": {
        "trusted": true,
        "execution": {
          "iopub.status.busy": "2025-01-23T13:32:30.910309Z",
          "iopub.execute_input": "2025-01-23T13:32:30.910642Z",
          "iopub.status.idle": "2025-01-23T13:33:46.468386Z",
          "shell.execute_reply.started": "2025-01-23T13:32:30.910617Z",
          "shell.execute_reply": "2025-01-23T13:33:46.467538Z"
        },
        "id": "gnCvT_lNcHaG"
      },
      "outputs": [],
      "execution_count": null
    },
    {
      "cell_type": "code",
      "source": [
        "# from google.colab import auth\n",
        "# auth.authenticate_user()\n",
        "# from googleapiclient.discovery import build\n",
        "# drive_service = build('drive', 'v3')"
      ],
      "metadata": {
        "trusted": true,
        "execution": {
          "iopub.status.busy": "2025-01-23T13:36:20.086342Z",
          "iopub.execute_input": "2025-01-23T13:36:20.086656Z",
          "iopub.status.idle": "2025-01-23T13:36:20.145745Z",
          "shell.execute_reply.started": "2025-01-23T13:36:20.086633Z",
          "shell.execute_reply": "2025-01-23T13:36:20.145140Z"
        },
        "id": "zOg-Igp9cHaG"
      },
      "outputs": [],
      "execution_count": null
    },
    {
      "cell_type": "code",
      "source": [
        "# !zip -r features.zip /content/AI-vs.-Human-Generated-Images-Kaggle-Competition/vgg16_features.h5"
      ],
      "metadata": {
        "trusted": true,
        "execution": {
          "iopub.status.busy": "2025-01-23T13:39:32.482782Z",
          "iopub.execute_input": "2025-01-23T13:39:32.483141Z",
          "iopub.status.idle": "2025-01-23T13:40:16.258214Z",
          "shell.execute_reply.started": "2025-01-23T13:39:32.483108Z",
          "shell.execute_reply": "2025-01-23T13:40:16.257324Z"
        },
        "id": "n3TNcTKUcHaG",
        "outputId": "21a233ad-9a69-4fd9-f0ca-b03405de219d"
      },
      "outputs": [
        {
          "name": "stdout",
          "text": "  adding: kaggle/working/AI-vs.-Human-Generated-Images-Kaggle-Competition/efficientNetB7_features.h5 (deflated 8%)\n",
          "output_type": "stream"
        }
      ],
      "execution_count": null
    },
    {
      "cell_type": "code",
      "source": [
        "# from IPython.display import FileLink\n",
        "# FileLink('/kaggle/working/features.zip')"
      ],
      "metadata": {
        "trusted": true,
        "execution": {
          "iopub.status.busy": "2025-01-23T13:48:08.786646Z",
          "iopub.execute_input": "2025-01-23T13:48:08.787006Z",
          "iopub.status.idle": "2025-01-23T13:48:08.792868Z",
          "shell.execute_reply.started": "2025-01-23T13:48:08.786964Z",
          "shell.execute_reply": "2025-01-23T13:48:08.792046Z"
        },
        "id": "Fh2Dzj7wcHaH",
        "outputId": "3495026c-b72e-4694-9b0a-69151a3a8df9"
      },
      "outputs": [
        {
          "execution_count": 18,
          "output_type": "execute_result",
          "data": {
            "text/plain": "/kaggle/working/features.zip",
            "text/html": "<a href='/kaggle/working/features.zip' target='_blank'>/kaggle/working/features.zip</a><br>"
          },
          "metadata": {}
        }
      ],
      "execution_count": null
    },
    {
      "cell_type": "code",
      "source": [
        "# from googleapiclient.http import MediaFileUpload\n",
        "\n",
        "# file_metadata = {\n",
        "#   'name': 'Vgg16_Features.zip',\n",
        "#   'mimeType': '*/*'\n",
        "# }\n",
        "# media = MediaFileUpload('/kaggle/working/features.zip',\n",
        "#                         mimetype='*/*',\n",
        "#                         resumable=True)\n",
        "# created = drive_service.files().create(body=file_metadata,\n",
        "#                                        media_body=media,\n",
        "#                                        fields='id').execute()\n",
        "# print('File ID: {}'.format(created.get('id')))"
      ],
      "metadata": {
        "trusted": true,
        "execution": {
          "iopub.status.busy": "2025-01-23T13:56:21.925939Z",
          "iopub.execute_input": "2025-01-23T13:56:21.926315Z",
          "iopub.status.idle": "2025-01-23T13:56:30.244229Z",
          "shell.execute_reply.started": "2025-01-23T13:56:21.926288Z",
          "shell.execute_reply": "2025-01-23T13:56:30.243455Z"
        },
        "id": "6n4kvpnscHaH",
        "outputId": "f3c57f72-44d3-4a1c-ea56-757df065efcb"
      },
      "outputs": [
        {
          "name": "stdout",
          "text": "File ID: 1yHlBWjHzsHC4CGUK90LGnZM7wUeAUhXq\n",
          "output_type": "stream"
        }
      ],
      "execution_count": null
    },
    {
      "cell_type": "code",
      "source": [
        "# from googleapiclient.http import MediaFileUpload\n",
        "\n",
        "# file_metadata = {\n",
        "#   'name': 'Vgg16_Features.h5',\n",
        "#   'mimeType': '*/*'\n",
        "# }\n",
        "# media = MediaFileUpload('/kaggle/working/AI-vs.-Human-Generated-Images-Kaggle-Competition/vgg16_features.h5',\n",
        "#                         mimetype='*/*',\n",
        "#                         resumable=True)\n",
        "# created = drive_service.files().create(body=file_metadata,\n",
        "#                                        media_body=media,\n",
        "#                                        fields='id').execute()\n",
        "# print('File ID: {}'.format(created.get('id')))"
      ],
      "metadata": {
        "trusted": true,
        "execution": {
          "iopub.status.busy": "2025-01-23T13:59:35.358960Z",
          "iopub.execute_input": "2025-01-23T13:59:35.359308Z",
          "iopub.status.idle": "2025-01-23T13:59:46.674213Z",
          "shell.execute_reply.started": "2025-01-23T13:59:35.359284Z",
          "shell.execute_reply": "2025-01-23T13:59:46.673451Z"
        },
        "id": "SUxRKrodcHaH",
        "outputId": "a76cf4b3-9e27-4ae8-da13-6db5eef77f07"
      },
      "outputs": [
        {
          "name": "stdout",
          "text": "File ID: 1b086EwHZrTVb6_LLtFBSKfkXYlfj1RXZ\n",
          "output_type": "stream"
        }
      ],
      "execution_count": null
    }
  ]
}