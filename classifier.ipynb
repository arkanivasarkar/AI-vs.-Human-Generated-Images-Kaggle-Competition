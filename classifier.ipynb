{
 "cells": [
  {
   "cell_type": "code",
   "execution_count": 3,
   "metadata": {},
   "outputs": [],
   "source": [
    "def read_h5_file(file_name):\n",
    "    import h5py\n",
    "    import numpy as np\n",
    "    with h5py.File(file_name, 'r') as f:\n",
    "        keys = list(f.keys())\n",
    "        print(keys)\n",
    "        data_key = keys[0]\n",
    "        label_key = keys[1]\n",
    "        data = f[data_key][:]\n",
    "        label = f[label_key][:]\n",
    "    return data, label"
   ]
  },
  {
   "cell_type": "code",
   "execution_count": 4,
   "metadata": {},
   "outputs": [
    {
     "name": "stdout",
     "output_type": "stream",
     "text": [
      "['features', 'labels']\n",
      "(79950, 512) (79950,)\n"
     ]
    }
   ],
   "source": [
    "data, label = read_h5_file('clip_features_final.h5')\n",
    "print(data.shape, label.shape)"
   ]
  },
  {
   "cell_type": "code",
   "execution_count": 5,
   "metadata": {},
   "outputs": [
    {
     "name": "stderr",
     "output_type": "stream",
     "text": [
      " 97%|█████████▋| 31/32 [49:26<01:06, 66.25s/it]   "
     ]
    },
    {
     "name": "stdout",
     "output_type": "stream",
     "text": [
      "[LightGBM] [Info] Number of positive: 27925, number of negative: 28040\n",
      "[LightGBM] [Info] Auto-choosing col-wise multi-threading, the overhead of testing was 0.242689 seconds.\n",
      "You can set `force_col_wise=true` to remove the overhead.\n",
      "[LightGBM] [Info] Total Bins 130560\n",
      "[LightGBM] [Info] Number of data points in the train set: 55965, number of used features: 512\n",
      "[LightGBM] [Info] [binary:BoostFromScore]: pavg=0.498973 -> initscore=-0.004110\n",
      "[LightGBM] [Info] Start training from score -0.004110\n"
     ]
    },
    {
     "name": "stderr",
     "output_type": "stream",
     "text": [
      "100%|██████████| 32/32 [49:44<00:00, 93.27s/it]"
     ]
    },
    {
     "name": "stdout",
     "output_type": "stream",
     "text": [
      "(                             Accuracy  Balanced Accuracy  ROC AUC  F1 Score  \\\n",
      "Model                                                                         \n",
      "SVC                              0.98               0.98     0.98      0.98   \n",
      "LinearSVC                        0.97               0.97     0.97      0.97   \n",
      "CalibratedClassifierCV           0.97               0.97     0.97      0.97   \n",
      "LinearDiscriminantAnalysis       0.97               0.97     0.97      0.97   \n",
      "RidgeClassifierCV                0.97               0.97     0.97      0.97   \n",
      "RidgeClassifier                  0.97               0.97     0.97      0.97   \n",
      "LogisticRegression               0.97               0.97     0.97      0.97   \n",
      "SGDClassifier                    0.97               0.97     0.97      0.97   \n",
      "NuSVC                            0.96               0.96     0.96      0.96   \n",
      "PassiveAggressiveClassifier      0.96               0.96     0.96      0.96   \n",
      "Perceptron                       0.95               0.95     0.95      0.95   \n",
      "XGBClassifier                    0.95               0.95     0.95      0.95   \n",
      "LGBMClassifier                   0.92               0.92     0.92      0.92   \n",
      "ExtraTreesClassifier             0.91               0.91     0.91      0.91   \n",
      "RandomForestClassifier           0.91               0.91     0.91      0.91   \n",
      "NearestCentroid                  0.88               0.88     0.88      0.88   \n",
      "GaussianNB                       0.88               0.88     0.88      0.88   \n",
      "BernoulliNB                      0.86               0.86     0.86      0.86   \n",
      "AdaBoostClassifier               0.85               0.85     0.85      0.85   \n",
      "KNeighborsClassifier             0.84               0.84     0.84      0.84   \n",
      "BaggingClassifier                0.82               0.82     0.82      0.82   \n",
      "DecisionTreeClassifier           0.73               0.73     0.73      0.73   \n",
      "ExtraTreeClassifier              0.66               0.66     0.66      0.66   \n",
      "DummyClassifier                  0.50               0.50     0.50      0.33   \n",
      "\n",
      "                             Time Taken  \n",
      "Model                                    \n",
      "SVC                              529.64  \n",
      "LinearSVC                         11.57  \n",
      "CalibratedClassifierCV            29.23  \n",
      "LinearDiscriminantAnalysis        17.17  \n",
      "RidgeClassifierCV                 14.63  \n",
      "RidgeClassifier                    4.51  \n",
      "LogisticRegression                 6.48  \n",
      "SGDClassifier                      6.83  \n",
      "NuSVC                           1280.44  \n",
      "PassiveAggressiveClassifier        4.70  \n",
      "Perceptron                         3.67  \n",
      "XGBClassifier                     26.92  \n",
      "LGBMClassifier                    18.52  \n",
      "ExtraTreesClassifier              38.21  \n",
      "RandomForestClassifier           181.43  \n",
      "NearestCentroid                    6.19  \n",
      "GaussianNB                         6.93  \n",
      "BernoulliNB                        3.87  \n",
      "AdaBoostClassifier               136.01  \n",
      "KNeighborsClassifier              62.05  \n",
      "BaggingClassifier                504.33  \n",
      "DecisionTreeClassifier            73.32  \n",
      "ExtraTreeClassifier                2.90  \n",
      "DummyClassifier                    2.55  ,                              Accuracy  Balanced Accuracy  ROC AUC  F1 Score  \\\n",
      "Model                                                                         \n",
      "SVC                              0.98               0.98     0.98      0.98   \n",
      "LinearSVC                        0.97               0.97     0.97      0.97   \n",
      "CalibratedClassifierCV           0.97               0.97     0.97      0.97   \n",
      "LinearDiscriminantAnalysis       0.97               0.97     0.97      0.97   \n",
      "RidgeClassifierCV                0.97               0.97     0.97      0.97   \n",
      "RidgeClassifier                  0.97               0.97     0.97      0.97   \n",
      "LogisticRegression               0.97               0.97     0.97      0.97   \n",
      "SGDClassifier                    0.97               0.97     0.97      0.97   \n",
      "NuSVC                            0.96               0.96     0.96      0.96   \n",
      "PassiveAggressiveClassifier      0.96               0.96     0.96      0.96   \n",
      "Perceptron                       0.95               0.95     0.95      0.95   \n",
      "XGBClassifier                    0.95               0.95     0.95      0.95   \n",
      "LGBMClassifier                   0.92               0.92     0.92      0.92   \n",
      "ExtraTreesClassifier             0.91               0.91     0.91      0.91   \n",
      "RandomForestClassifier           0.91               0.91     0.91      0.91   \n",
      "NearestCentroid                  0.88               0.88     0.88      0.88   \n",
      "GaussianNB                       0.88               0.88     0.88      0.88   \n",
      "BernoulliNB                      0.86               0.86     0.86      0.86   \n",
      "AdaBoostClassifier               0.85               0.85     0.85      0.85   \n",
      "KNeighborsClassifier             0.84               0.84     0.84      0.84   \n",
      "BaggingClassifier                0.82               0.82     0.82      0.82   \n",
      "DecisionTreeClassifier           0.73               0.73     0.73      0.73   \n",
      "ExtraTreeClassifier              0.66               0.66     0.66      0.66   \n",
      "DummyClassifier                  0.50               0.50     0.50      0.33   \n",
      "\n",
      "                             Time Taken  \n",
      "Model                                    \n",
      "SVC                              529.64  \n",
      "LinearSVC                         11.57  \n",
      "CalibratedClassifierCV            29.23  \n",
      "LinearDiscriminantAnalysis        17.17  \n",
      "RidgeClassifierCV                 14.63  \n",
      "RidgeClassifier                    4.51  \n",
      "LogisticRegression                 6.48  \n",
      "SGDClassifier                      6.83  \n",
      "NuSVC                           1280.44  \n",
      "PassiveAggressiveClassifier        4.70  \n",
      "Perceptron                         3.67  \n",
      "XGBClassifier                     26.92  \n",
      "LGBMClassifier                    18.52  \n",
      "ExtraTreesClassifier              38.21  \n",
      "RandomForestClassifier           181.43  \n",
      "NearestCentroid                    6.19  \n",
      "GaussianNB                         6.93  \n",
      "BernoulliNB                        3.87  \n",
      "AdaBoostClassifier               136.01  \n",
      "KNeighborsClassifier              62.05  \n",
      "BaggingClassifier                504.33  \n",
      "DecisionTreeClassifier            73.32  \n",
      "ExtraTreeClassifier                2.90  \n",
      "DummyClassifier                    2.55  )\n"
     ]
    },
    {
     "name": "stderr",
     "output_type": "stream",
     "text": [
      "\n"
     ]
    }
   ],
   "source": [
    "from lazypredict.Supervised import LazyClassifier\n",
    "from sklearn.model_selection import train_test_split\n",
    "from sklearn.preprocessing import StandardScaler\n",
    "\n",
    "\n",
    "X = data\n",
    "y = label\n",
    "\n",
    "X_train, X_test, y_train, y_test = train_test_split(X, y, test_size=0.3,random_state =42)\n",
    "\n",
    "\n",
    "scaler = StandardScaler()\n",
    "X_train = scaler.fit_transform(X_train)\n",
    "X_test = scaler.transform(X_test)\n",
    "\n",
    "clf = LazyClassifier(verbose=0,ignore_warnings=True, custom_metric=None)\n",
    "models = clf.fit(X_train, X_test, y_train, y_test)\n",
    "\n",
    "print(models)"
   ]
  }
 ],
 "metadata": {
  "kernelspec": {
   "display_name": "Python 3",
   "language": "python",
   "name": "python3"
  },
  "language_info": {
   "codemirror_mode": {
    "name": "ipython",
    "version": 3
   },
   "file_extension": ".py",
   "mimetype": "text/x-python",
   "name": "python",
   "nbconvert_exporter": "python",
   "pygments_lexer": "ipython3",
   "version": "3.10.11"
  }
 },
 "nbformat": 4,
 "nbformat_minor": 2
}
